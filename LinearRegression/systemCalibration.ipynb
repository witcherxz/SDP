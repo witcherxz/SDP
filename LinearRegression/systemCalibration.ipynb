{
 "cells": [
  {
   "cell_type": "code",
   "execution_count": 299,
   "metadata": {},
   "outputs": [],
   "source": [
    "import json\n",
    "import numpy as np\n",
    "import tensorflow as tf\n",
    "from sklearn.linear_model import LinearRegression\n",
    "from sklearn.metrics import r2_score\n",
    "from collections import defaultdict\n",
    "import matplotlib.pyplot as plt\n",
    "\n",
    "import csv\n",
    "\n",
    "\n",
    "from tensorflow import keras\n",
    "from tensorflow.keras import layers\n"
   ]
  },
  {
   "cell_type": "code",
   "execution_count": 300,
   "metadata": {},
   "outputs": [],
   "source": [
    "file = open(\"systemCalibration.json\")\n",
    "data = json.load(file)\n"
   ]
  },
  {
   "attachments": {},
   "cell_type": "markdown",
   "metadata": {},
   "source": [
    "open System calibration file that contain the reading from the real world and reading from the camera"
   ]
  },
  {
   "cell_type": "code",
   "execution_count": 301,
   "metadata": {},
   "outputs": [],
   "source": [
    "features = data['camera']\n",
    "for i in features.items():\n",
    "    for it, r in enumerate(i[1]):\n",
    "        i[1][it] = list(r.values())\n"
   ]
  },
  {
   "cell_type": "code",
   "execution_count": 302,
   "metadata": {},
   "outputs": [],
   "source": [
    "\n",
    "labels = defaultdict(list)\n",
    "for record in data['real']:\n",
    "    r = record.copy()\n",
    "    ids = r['ids']\n",
    "    r.pop('ids', None)\n",
    "    for id in ids: \n",
    "        labels[id].append(list(r.values()))"
   ]
  },
  {
   "cell_type": "code",
   "execution_count": 303,
   "metadata": {},
   "outputs": [
    {
     "ename": "PermissionError",
     "evalue": "[Errno 13] Permission denied: 'systemCalibration.csv'",
     "output_type": "error",
     "traceback": [
      "\u001b[1;31m---------------------------------------------------------------------------\u001b[0m",
      "\u001b[1;31mPermissionError\u001b[0m                           Traceback (most recent call last)",
      "Cell \u001b[1;32mIn [303], line 5\u001b[0m\n\u001b[0;32m      3\u001b[0m Y \u001b[39m=\u001b[39m np\u001b[39m.\u001b[39marray(labels[\u001b[39m0\u001b[39m])\n\u001b[0;32m      4\u001b[0m Z \u001b[39m=\u001b[39m np\u001b[39m.\u001b[39mconcatenate((X, Y), axis\u001b[39m=\u001b[39m\u001b[39m1\u001b[39m)\n\u001b[1;32m----> 5\u001b[0m np\u001b[39m.\u001b[39;49msavetxt(\u001b[39m\"\u001b[39;49m\u001b[39msystemCalibration.csv\u001b[39;49m\u001b[39m\"\u001b[39;49m, Z, delimiter\u001b[39m=\u001b[39;49m\u001b[39m\"\u001b[39;49m\u001b[39m,\u001b[39;49m\u001b[39m\"\u001b[39;49m)\n\u001b[0;32m      6\u001b[0m model1 \u001b[39m=\u001b[39m LinearRegression()\n\u001b[0;32m      7\u001b[0m model1\u001b[39m.\u001b[39mfit(X, Y)\n",
      "File \u001b[1;32m<__array_function__ internals>:180\u001b[0m, in \u001b[0;36msavetxt\u001b[1;34m(*args, **kwargs)\u001b[0m\n",
      "File \u001b[1;32mc:\\Python\\Python38\\lib\\site-packages\\numpy\\lib\\npyio.py:1503\u001b[0m, in \u001b[0;36msavetxt\u001b[1;34m(fname, X, fmt, delimiter, newline, header, footer, comments, encoding)\u001b[0m\n\u001b[0;32m   1500\u001b[0m     fname \u001b[39m=\u001b[39m os_fspath(fname)\n\u001b[0;32m   1501\u001b[0m \u001b[39mif\u001b[39;00m _is_string_like(fname):\n\u001b[0;32m   1502\u001b[0m     \u001b[39m# datasource doesn't support creating a new file ...\u001b[39;00m\n\u001b[1;32m-> 1503\u001b[0m     \u001b[39mopen\u001b[39;49m(fname, \u001b[39m'\u001b[39;49m\u001b[39mwt\u001b[39;49m\u001b[39m'\u001b[39;49m)\u001b[39m.\u001b[39mclose()\n\u001b[0;32m   1504\u001b[0m     fh \u001b[39m=\u001b[39m np\u001b[39m.\u001b[39mlib\u001b[39m.\u001b[39m_datasource\u001b[39m.\u001b[39mopen(fname, \u001b[39m'\u001b[39m\u001b[39mwt\u001b[39m\u001b[39m'\u001b[39m, encoding\u001b[39m=\u001b[39mencoding)\n\u001b[0;32m   1505\u001b[0m     own_fh \u001b[39m=\u001b[39m \u001b[39mTrue\u001b[39;00m\n",
      "\u001b[1;31mPermissionError\u001b[0m: [Errno 13] Permission denied: 'systemCalibration.csv'"
     ]
    }
   ],
   "source": [
    "# For X values\n",
    "X = np.array(features[\"_0\"])\n",
    "Y = np.array(labels[0])\n",
    "Z = np.concatenate((X, Y), axis=1)\n",
    "np.savetxt(\"systemCalibration.csv\", Z, delimiter=\",\")\n",
    "model1 = LinearRegression()\n",
    "model1.fit(X, Y)\n",
    "# xm = np.polyfit(X[:,1:2], Y[:,:1], 3)\n",
    "\n"
   ]
  },
  {
   "cell_type": "code",
   "execution_count": null,
   "metadata": {},
   "outputs": [
    {
     "name": "stdout",
     "output_type": "stream",
     "text": [
      "[[2.05113606e-01 5.50436171e-02 4.82641646e+01]\n",
      " [3.42260116e-01 1.63699507e-01 5.22752392e+01]\n",
      " [2.60029618e-01 5.24236380e-02 2.67327188e+02]\n",
      " [4.46430350e-01 1.50716457e-01 4.60439519e+01]\n",
      " [2.80798727e-01 2.18804196e-01 1.25861664e+02]\n",
      " [6.51633795e-01 3.39928582e-01 1.91944902e+02]\n",
      " [4.12544560e-01 2.52426167e-01 1.99269113e+02]\n",
      " [6.12477115e-01 4.51538128e-01 1.10714187e+02]\n",
      " [2.71444557e-01 2.19616407e-01 1.20720968e+02]\n",
      " [6.15687898e-01 4.39851819e-01 1.33704372e+02]\n",
      " [4.31961009e-01 4.46901369e-01 1.73034791e+02]\n",
      " [1.19756958e-01 4.00350654e-01 1.36612093e+02]\n",
      " [6.59189301e-01 3.58610081e-01 6.05949460e+00]\n",
      " [4.02068140e-01 4.29629119e-01 1.53661083e+02]\n",
      " [3.83103470e-01 1.76413576e-01 2.66901749e+02]\n",
      " [6.26864938e-01 2.84704592e-01 4.06428639e+01]\n",
      " [3.89211239e-01 3.53362012e-01 1.56369117e+02]\n",
      " [6.31385198e-01 1.87520658e-01 1.86866283e+02]\n",
      " [5.69458719e-01 4.46477635e-01 1.34773034e+02]\n",
      " [6.09606001e-01 1.39350157e-01 1.00876691e+02]\n",
      " [4.79443436e-01 1.45758485e-01 1.35767031e+02]\n",
      " [5.70075345e-01 2.33590417e-01 1.25163674e+02]\n",
      " [6.05848545e-01 2.20958405e-01 1.27392968e+02]\n",
      " [8.09338819e-01 4.83658644e-01 1.58652153e+02]\n",
      " [6.68611949e-01 6.30453059e-01 1.71297589e+02]\n",
      " [2.29560816e-01 2.47825782e-01 8.94958716e+01]\n",
      " [5.16095775e-01 4.70386839e-01 1.40307768e+02]]\n",
      "(27, 3)\n",
      "R^2 Score :  0.2988985257439281\n"
     ]
    },
    {
     "data": {
      "image/png": "[encoded data removed]",
      "text/plain": [
       "<Figure size 640x480 with 1 Axes>"
      ]
     },
     "metadata": {},
     "output_type": "display_data"
    }
   ],
   "source": [
    "\n",
    "pred = model1.predict(X)\n",
    "print(pred)\n",
    "plt.scatter(Y[:, :1], Y[:, 1:2], label=\"Real Measurement\")\n",
    "plt.scatter(X[:, 1:2], X[:, :1], label=\"Camera readings\")\n",
    "plt.legend(bbox_to_anchor=(1.04, 1), borderaxespad=0)\n",
    "# plt.scatter(pred[:, :1], pred[:, 1:2])\n",
    "print(Y.shape)\n",
    "plt.xlabel(\"x\")\n",
    "plt.ylabel(\"y\")\n",
    "print(\"R^2 Score : \",r2_score(Y, pred))\n"
   ]
  },
  {
   "cell_type": "code",
   "execution_count": null,
   "metadata": {},
   "outputs": [
    {
     "name": "stdout",
     "output_type": "stream",
     "text": [
      "Model: \"sequential_34\"\n",
      "_________________________________________________________________\n",
      " Layer (type)                Output Shape              Param #   \n",
      "=================================================================\n",
      " normalization_19 (Normaliza  (None, 6)                13        \n",
      " tion)                                                           \n",
      "                                                                 \n",
      " dense_64 (Dense)            (None, 64)                448       \n",
      "                                                                 \n",
      " dense_65 (Dense)            (None, 64)                4160      \n",
      "                                                                 \n",
      " dense_66 (Dense)            (None, 3)                 195       \n",
      "                                                                 \n",
      "=================================================================\n",
      "Total params: 4,816\n",
      "Trainable params: 4,803\n",
      "Non-trainable params: 13\n",
      "_________________________________________________________________\n"
     ]
    }
   ],
   "source": [
    "horsepower_normalizer =  layers.Normalization(input_shape=[6,])\n",
    "horsepower_normalizer.adapt(X)\n",
    "model = tf.keras.Sequential([\n",
    "    horsepower_normalizer,\n",
    "    layers.Dense(64, activation='relu'),\n",
    "    layers.Dense(64, activation='relu'),\n",
    "    layers.Dense(units=3)\n",
    "])\n",
    "model.summary()"
   ]
  },
  {
   "cell_type": "code",
   "execution_count": null,
   "metadata": {},
   "outputs": [
    {
     "name": "stdout",
     "output_type": "stream",
     "text": [
      "1/1 [==============================] - 0s 56ms/step\n"
     ]
    },
    {
     "data": {
      "text/plain": [
       "array([[-2.91449845e-01, -9.33836699e-01,  1.45712346e-02],\n",
       "       [-4.14347708e-01, -1.21694684e+00,  3.95527124e-01],\n",
       "       [-1.97113216e-01, -6.79962873e-01,  3.52532923e-01],\n",
       "       [-2.43398815e-01, -7.43252218e-01,  1.10396564e-01],\n",
       "       [-3.75783116e-01, -1.04366696e+00,  4.67555285e-01],\n",
       "       [-3.72404069e-01, -3.25661540e-01,  2.04748958e-02],\n",
       "       [-1.32669285e-01, -5.41202188e-01,  4.29956242e-02],\n",
       "       [-5.19508980e-02, -4.34077561e-01, -3.02027594e-02],\n",
       "       [-2.75636852e-01, -6.74201548e-01, -4.25346941e-03],\n",
       "       [-1.89202785e-01, -2.42394716e-01, -9.04387459e-02],\n",
       "       [-4.01313722e-01, -2.95622051e-01, -3.02415341e-02],\n",
       "       [-9.98258591e-02, -6.50764585e-01, -1.26676321e-01],\n",
       "       [-8.04914013e-02, -6.49381638e-01,  2.82366216e-01],\n",
       "       [-4.49538231e-04, -4.94511932e-01, -1.13614932e-01],\n",
       "       [-3.01428199e-01, -6.09437883e-01,  5.59644043e-01],\n",
       "       [-4.45848852e-02, -7.75096953e-01,  1.89640507e-01],\n",
       "       [ 2.51825452e-02, -6.20711148e-01,  7.06430078e-02],\n",
       "       [-3.44228148e-01, -3.72923374e-01,  1.97088495e-02],\n",
       "       [-1.82939768e-01, -5.86298406e-01, -1.54280856e-01],\n",
       "       [ 7.15309307e-02, -7.01713800e-01,  2.10590154e-01],\n",
       "       [ 3.05801816e-02, -2.52553135e-01,  3.32792252e-02],\n",
       "       [-2.04842523e-01, -1.58691093e-01, -4.02496643e-02],\n",
       "       [ 2.12209553e-01, -5.58458209e-01,  2.90726870e-03],\n",
       "       [-1.11318178e-01, -4.49485272e-01,  1.79186285e-01],\n",
       "       [-8.00168514e-01, -6.02024078e-01,  1.80388480e-01],\n",
       "       [ 1.30814597e-01, -2.40016639e-01, -2.90339172e-01],\n",
       "       [-2.22641498e-01, -5.84878802e-01,  2.60857105e-01]], dtype=float32)"
      ]
     },
     "execution_count": 274,
     "metadata": {},
     "output_type": "execute_result"
    }
   ],
   "source": [
    "\n",
    "model.predict(X)\n",
    "# model.fit(X, Y, epochs=100)"
   ]
  },
  {
   "cell_type": "code",
   "execution_count": null,
   "metadata": {},
   "outputs": [],
   "source": [
    "model.compile(\n",
    "    optimizer=tf.keras.optimizers.Adam(learning_rate=0.001),\n",
    "    loss='mean_absolute_error')"
   ]
  },
  {
   "cell_type": "code",
   "execution_count": null,
   "metadata": {},
   "outputs": [],
   "source": [
    "\n",
    "history = model.fit(\n",
    "    X,\n",
    "    Y,\n",
    "    epochs=1000,\n",
    "    verbose=0)"
   ]
  },
  {
   "cell_type": "code",
   "execution_count": null,
   "metadata": {},
   "outputs": [
    {
     "name": "stdout",
     "output_type": "stream",
     "text": [
      "1/1 [==============================] - 0s 34ms/step\n",
      "R^2 Score :  0.9828994162521322\n"
     ]
    }
   ],
   "source": [
    "mPred = model.predict(X)\n",
    "print(\"R^2 Score : \",r2_score(Y, mPred))"
   ]
  },
  {
   "cell_type": "code",
   "execution_count": null,
   "metadata": {},
   "outputs": [],
   "source": [
    "def plot_loss(history):\n",
    "  plt.plot(history.history['loss'], label='loss')\n",
    "  plt.plot(history.history['val_loss'], label='val_loss')\n",
    "  plt.ylim([0, 10])\n",
    "  plt.xlabel('Epoch')\n",
    "  plt.ylabel('Error [MPG]')\n",
    "  plt.legend()\n",
    "  plt.grid(True)"
   ]
  },
  {
   "cell_type": "code",
   "execution_count": null,
   "metadata": {},
   "outputs": [
    {
     "ename": "KeyError",
     "evalue": "'val_loss'",
     "output_type": "error",
     "traceback": [
      "\u001b[1;31m---------------------------------------------------------------------------\u001b[0m",
      "\u001b[1;31mKeyError\u001b[0m                                  Traceback (most recent call last)",
      "Cell \u001b[1;32mIn [285], line 1\u001b[0m\n\u001b[1;32m----> 1\u001b[0m plot_loss(history)\n",
      "Cell \u001b[1;32mIn [278], line 3\u001b[0m, in \u001b[0;36mplot_loss\u001b[1;34m(history)\u001b[0m\n\u001b[0;32m      1\u001b[0m \u001b[39mdef\u001b[39;00m \u001b[39mplot_loss\u001b[39m(history):\n\u001b[0;32m      2\u001b[0m   plt\u001b[39m.\u001b[39mplot(history\u001b[39m.\u001b[39mhistory[\u001b[39m'\u001b[39m\u001b[39mloss\u001b[39m\u001b[39m'\u001b[39m], label\u001b[39m=\u001b[39m\u001b[39m'\u001b[39m\u001b[39mloss\u001b[39m\u001b[39m'\u001b[39m)\n\u001b[1;32m----> 3\u001b[0m   plt\u001b[39m.\u001b[39mplot(history\u001b[39m.\u001b[39;49mhistory[\u001b[39m'\u001b[39;49m\u001b[39mval_loss\u001b[39;49m\u001b[39m'\u001b[39;49m], label\u001b[39m=\u001b[39m\u001b[39m'\u001b[39m\u001b[39mval_loss\u001b[39m\u001b[39m'\u001b[39m)\n\u001b[0;32m      4\u001b[0m   plt\u001b[39m.\u001b[39mylim([\u001b[39m0\u001b[39m, \u001b[39m10\u001b[39m])\n\u001b[0;32m      5\u001b[0m   plt\u001b[39m.\u001b[39mxlabel(\u001b[39m'\u001b[39m\u001b[39mEpoch\u001b[39m\u001b[39m'\u001b[39m)\n",
      "\u001b[1;31mKeyError\u001b[0m: 'val_loss'"
     ]
    },
    {
     "data": {
      "image/png": "[encoded data removed]",
      "text/plain": [
       "<Figure size 640x480 with 1 Axes>"
      ]
     },
     "metadata": {},
     "output_type": "display_data"
    }
   ],
   "source": [
    "plot_loss(history)"
   ]
  },
  {
   "cell_type": "code",
   "execution_count": null,
   "metadata": {},
   "outputs": [
    {
     "name": "stdout",
     "output_type": "stream",
     "text": [
      "1/1 [==============================] - 0s 50ms/step\n"
     ]
    },
    {
     "data": {
      "text/plain": [
       "array([[-0.61558825,  0.52987355, 19.497545  ]], dtype=float32)"
      ]
     },
     "execution_count": 287,
     "metadata": {},
     "output_type": "execute_result"
    }
   ],
   "source": [
    "\n",
    "# [-0.18551, 0.0934551, 3.15415, 3.07379, -0.0540372, -0.557751]\n",
    "model.predict([-0.476185, 0.643159, 3.1303, -2.8503, 1.01683, -1.08323])"
   ]
  }
 ],
 "metadata": {
  "kernelspec": {
   "display_name": "Python 3",
   "language": "python",
   "name": "python3"
  },
  "language_info": {
   "codemirror_mode": {
    "name": "ipython",
    "version": 3
   },
   "file_extension": ".py",
   "mimetype": "text/x-python",
   "name": "python",
   "nbconvert_exporter": "python",
   "pygments_lexer": "ipython3",
   "version": "3.8.2"
  },
  "orig_nbformat": 4,
  "vscode": {
   "interpreter": {
    "hash": "b081a66ee97bd2b6a16f43955f1d810b7ea816d6eaeb65e157ef9e038445f0c6"
   }
  }
 },
 "nbformat": 4,
 "nbformat_minor": 2
}
